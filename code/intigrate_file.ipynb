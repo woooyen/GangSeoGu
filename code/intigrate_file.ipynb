{
 "cells": [
  {
   "cell_type": "markdown",
   "id": "b9b223d7",
   "metadata": {},
   "source": [
    "## 장애인콜 시스템"
   ]
  },
  {
   "cell_type": "code",
   "execution_count": 1,
   "id": "4fba5c92",
   "metadata": {},
   "outputs": [],
   "source": [
    "# modules\n",
    "import requests\n",
    "import pprint\n",
    "import json\n",
    "import tqdm\n",
    "\n",
    "from os import name\n",
    "import xml.etree.ElementTree as et\n",
    "import pandas as pd\n",
    "import bs4\n",
    "from lxml import html\n",
    "from urllib.parse import urlencode, quote_plus, unquote"
   ]
  },
  {
   "cell_type": "code",
   "execution_count": 8,
   "id": "3952656a",
   "metadata": {},
   "outputs": [
    {
     "name": "stderr",
     "output_type": "stream",
     "text": [
      "100%|██████████████████████████████████████████████████████████████████████████████████| 12/12 [00:05<00:00,  2.32it/s]\n",
      "100%|██████████████████████████████████████████████████████████████████████████████████| 12/12 [00:05<00:00,  2.04it/s]\n",
      "100%|██████████████████████████████████████████████████████████████████████████████████| 12/12 [00:08<00:00,  1.47it/s]\n",
      "100%|██████████████████████████████████████████████████████████████████████████████████| 12/12 [00:10<00:00,  1.15it/s]\n",
      " 17%|█████████████▊                                                                     | 2/12 [00:01<00:09,  1.02it/s]\n"
     ]
    }
   ],
   "source": [
    "# declare data\n",
    "data = pd.DataFrame()\n",
    "\n",
    "# in data\n",
    "for i in range(2019,2024):\n",
    "    for j in tqdm.tqdm([\"01\", \"02\", \"03\", \n",
    "             \"04\", \"05\", \"06\",\n",
    "             \"07\", \"08\", \"09\",\n",
    "             \"10\", \"11\", \"12\"]):\n",
    "        try:\n",
    "            tmp = pd.read_csv(str(i) + j +\"콜택시.csv\")\n",
    "            data = pd.concat([data, tmp])\n",
    "        except:\n",
    "            break"
   ]
  },
  {
   "cell_type": "code",
   "execution_count": 10,
   "id": "cb83f9e0",
   "metadata": {},
   "outputs": [],
   "source": [
    "data.to_csv(\"call_taxi_intigrate.csv\", index = False)"
   ]
  }
 ],
 "metadata": {
  "kernelspec": {
   "display_name": "please",
   "language": "python",
   "name": "please"
  },
  "language_info": {
   "codemirror_mode": {
    "name": "ipython",
    "version": 3
   },
   "file_extension": ".py",
   "mimetype": "text/x-python",
   "name": "python",
   "nbconvert_exporter": "python",
   "pygments_lexer": "ipython3",
   "version": "3.7.13"
  }
 },
 "nbformat": 4,
 "nbformat_minor": 5
}
